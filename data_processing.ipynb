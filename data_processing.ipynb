{
 "cells": [
  {
   "cell_type": "code",
   "execution_count": 6,
   "metadata": {},
   "outputs": [],
   "source": [
    "import pandas as pd\n",
    "import seaborn as sns\n",
    "import numpy as np\n",
    "\n",
    "\n",
    "def remove_outliers(col_name):\n",
    "    sorted(col_name)\n",
    "    Q1, Q3 = col_name.quantile([0.25, 0.75])  # 1st and 3rd Quartile\n",
    "    IQR = Q3 - Q1  # Inter Quartile Range\n",
    "    lower = Q1 - 1.5 * IQR  # Lower Limit\n",
    "    upper = Q3 + 1.5 * IQR  # Upper Limit\n",
    "    return lower, upper  # Returning the Lower and Upper Limit\n",
    "\n",
    "\n",
    "uploaded_file = r\"c:\\Users\\Raghav\\Desktop\\mumbai.csv\"\n",
    "data = pd.read_csv(uploaded_file)\n",
    "\n",
    "\n",
    "low, high = remove_outliers(data['price'])  # Calling the Function with the column name\n",
    "\n",
    "# data = data[(data['price'] > low) & (data['price'] < high)]  # Filtering the data\n",
    "data['price'] = np.where(data['price'] > high, high, data['price']) \n",
    "\n",
    "data.to_csv(r\"c:\\Users\\Raghav\\Desktop\\mum1.csv\", index=False)  # Saving the data to a new CSV file\n"
   ]
  },
  {
   "cell_type": "code",
   "execution_count": 7,
   "metadata": {},
   "outputs": [
    {
     "data": {
      "text/plain": [
       "<Axes: ylabel='price'>"
      ]
     },
     "execution_count": 7,
     "metadata": {},
     "output_type": "execute_result"
    },
    {
     "data": {
      "image/png": "[encoded data removed]",
      "text/plain": [
       "<Figure size 640x480 with 1 Axes>"
      ]
     },
     "metadata": {},
     "output_type": "display_data"
    }
   ],
   "source": [
    "sns.boxplot(y='price', data=data)  # Boxplot for Potassium Content, after removing the outliers\n"
   ]
  },
  {
   "cell_type": "code",
   "execution_count": 1,
   "metadata": {},
   "outputs": [
    {
     "name": "stderr",
     "output_type": "stream",
     "text": [
      "2024-12-28 09:48:26.369 WARNING streamlit.runtime.scriptrunner_utils.script_run_context: Thread 'MainThread': missing ScriptRunContext! This warning can be ignored when running in bare mode.\n",
      "2024-12-28 09:48:26.928 \n",
      "  \u001b[33m\u001b[1mWarning:\u001b[0m to view this Streamlit app on a browser, run it with the following\n",
      "  command:\n",
      "\n",
      "    streamlit run c:\\Users\\Raghav\\Desktop\\Coding\\VIT_PFE\\housing_prediction\\.venv\\Lib\\site-packages\\ipykernel_launcher.py [ARGUMENTS]\n",
      "2024-12-28 09:48:26.930 Thread 'MainThread': missing ScriptRunContext! This warning can be ignored when running in bare mode.\n",
      "2024-12-28 09:48:26.930 Thread 'MainThread': missing ScriptRunContext! This warning can be ignored when running in bare mode.\n",
      "2024-12-28 09:48:26.931 Thread 'MainThread': missing ScriptRunContext! This warning can be ignored when running in bare mode.\n",
      "2024-12-28 09:48:26.931 Thread 'MainThread': missing ScriptRunContext! This warning can be ignored when running in bare mode.\n",
      "2024-12-28 09:48:26.932 Thread 'MainThread': missing ScriptRunContext! This warning can be ignored when running in bare mode.\n",
      "2024-12-28 09:48:26.933 Thread 'MainThread': missing ScriptRunContext! This warning can be ignored when running in bare mode.\n"
     ]
    }
   ],
   "source": [
    "# import numpy as np\n",
    "# import pandas as pd\n",
    "# import matplotlib.pyplot as plt\n",
    "# from sklearn.model_selection import train_test_split\n",
    "# from sklearn.ensemble import RandomForestRegressor\n",
    "# from sklearn.metrics import mean_absolute_error, r2_score\n",
    "# from sklearn.preprocessing import OneHotEncoder\n",
    "# import streamlit as st\n",
    "# \n",
    "# \n",
    "# # Function to remove outliers\n",
    "# def remove_outliers(col):\n",
    "#     Q1, Q3 = col.quantile([0.25, 0.75])\n",
    "#     IQR = Q3 - Q1\n",
    "#     lower = Q1 - 1.5 * IQR\n",
    "#     upper = Q3 + 1.5 * IQR\n",
    "#     return lower, upper\n",
    "# \n",
    "# \n",
    "# # Streamlit App\n",
    "# st.title(\"Custom Housing Price Predictor\")\n",
    "# \n",
    "# # Upload dataset\n",
    "# uploaded_file = st.file_uploader(\"Upload your dataset (CSV file)\", type=[\"csv\"])\n",
    "# if uploaded_file:\n",
    "#     # Load dataset\n",
    "#     data = pd.read_csv(uploaded_file)\n",
    "# \n",
    "#     # Remove outliers from the price column\n",
    "#     low, high = remove_outliers(data['price'])\n",
    "#     data['price'] = np.where(data['price'] > high, high, data['price'])\n",
    "# \n",
    "#     # Display dataset\n",
    "#     st.subheader(\"Dataset Overview\")\n",
    "#     st.write(data.head())\n",
    "# \n",
    "#     # Predefined columns\n",
    "#     feature_columns = [\"bath\", \"balcony\", \"bhk\", \"price_per_sqft\", \"new_total_sqft\"]\n",
    "#     target_column = \"price\"\n",
    "#     location_column = \"site_location\"\n",
    "# \n",
    "#     # Feature and target selection\n",
    "#     X = data[feature_columns]\n",
    "#     y = data[target_column]\n",
    "# \n",
    "#     # Add location if applicable\n",
    "#     if location_column in data.columns:\n",
    "#         X[\"Location\"] = data[location_column]\n",
    "#         locations = X[\"Location\"].unique()\n",
    "#     else:\n",
    "#         locations = None\n",
    "# \n",
    "#     # Test size slider\n",
    "#     test_size = st.sidebar.slider(\"Test Size\", min_value=0.1, max_value=0.5, step=0.05, value=0.2)\n",
    "# \n",
    "#     # Random state slider\n",
    "#     random_state = st.sidebar.number_input(\"Random State\", min_value=0, step=1, value=42)\n",
    "# \n",
    "#     # Split data\n",
    "#     X_train, X_test, y_train, y_test = train_test_split(X, y, test_size=test_size, random_state=random_state)\n",
    "# \n",
    "#     # Encode location column if applicable\n",
    "#     if location_column in X.columns:\n",
    "#         encoder = OneHotEncoder(sparse_output=False, handle_unknown='ignore')\n",
    "#         location_encoded = encoder.fit_transform(X_train[[\"Location\"]])\n",
    "#         location_encoded_test = encoder.transform(X_test[[\"Location\"]])\n",
    "#         location_columns = encoder.get_feature_names_out([\"Location\"])\n",
    "#         X_train = pd.concat(\n",
    "#             [X_train.drop(columns=[\"Location\"]).reset_index(drop=True),\n",
    "#              pd.DataFrame(location_encoded, columns=location_columns)], axis=1\n",
    "#              )\n",
    "#         X_test = pd.concat(\n",
    "#             [X_test.drop(columns=[\"Location\"]).reset_index(drop=True),\n",
    "#              pd.DataFrame(location_encoded_test, columns=location_columns)], axis=1\n",
    "#              )\n",
    "# \n",
    "#     # Train model\n",
    "#     model = RandomForestRegressor(random_state=random_state, n_estimators=200)\n",
    "#     model.fit(X_train, y_train)\n",
    "#     y_pred = model.predict(X_test)\n",
    "# \n",
    "#     # Calculate metrics\n",
    "#     mae = mean_absolute_error(y_test, y_pred)\n",
    "#     r2 = r2_score(y_test, y_pred)\n",
    "# \n",
    "#     # Display metrics\n",
    "#     st.subheader(\"Model Performance\")\n",
    "#     st.write(\"*Mean Absolute Error (MAE):*\", mae)\n",
    "#     st.write(\"*R² Score:*\", r2)\n",
    "# \n",
    "#     # Visualization\n",
    "#     st.subheader(\"Actual vs Predicted Prices\")\n",
    "#     fig, ax = plt.subplots(figsize=(10, 6))\n",
    "#     ax.scatter(y_test, y_pred, alpha=0.6, label=\"Predictions\")\n",
    "#     ax.plot([y_test.min(), y_test.max()], [y_test.min(), y_test.max()], 'r--', label=\"Perfect Prediction Line\")\n",
    "#     ax.set_title(\"Actual vs Predicted House Prices\")\n",
    "#     ax.set_xlabel(\"Actual Prices\")\n",
    "#     ax.set_ylabel(\"Predicted Prices\")\n",
    "#     ax.legend()\n",
    "#     ax.grid()\n",
    "#     st.pyplot(fig)\n"
   ]
  },
  {
   "cell_type": "code",
   "execution_count": 1,
   "metadata": {},
   "outputs": [
    {
     "name": "stdout",
     "output_type": "stream",
     "text": [
      "Data successfully written to output.csv\n"
     ]
    }
   ],
   "source": [
    "import re\n",
    "import csv\n",
    "\n",
    "# Input file containing data (each line in the format: \"3 BHK Apartment for Sale in ...\")\n",
    "input_file = \"input.txt\"  # Replace with your input file path\n",
    "output_file = \"output.csv\"\n",
    "\n",
    "# Prepare a list to hold the extracted data\n",
    "data_list = [[\"BHK\", \"Location\"]]  # Header for the CSV file\n",
    "\n",
    "# Read input file and process each line\n",
    "with open(input_file, mode='r', encoding='utf-8') as file:\n",
    "    for line in file:\n",
    "        # Use regular expressions to extract BHK and location\n",
    "        bhk_match = re.search(r'(\\d+)\\s*BHK', line)\n",
    "        location_match = re.search(r'in\\s(.*)', line)\n",
    "        \n",
    "        # Extract values if matches are found\n",
    "        bhk = bhk_match.group(1) if bhk_match else None\n",
    "        location = location_match.group(1).strip() if location_match else None\n",
    "        \n",
    "        # Append to the data list\n",
    "        if bhk and location:  # Only add valid rows\n",
    "            data_list.append([bhk, location])\n",
    "\n",
    "# Write extracted data to CSV\n",
    "with open(output_file, mode='w', newline='', encoding='utf-8') as file:\n",
    "    writer = csv.writer(file)\n",
    "    writer.writerows(data_list)\n",
    "\n",
    "print(f\"Data successfully written to {output_file}\")\n"
   ]
  },
  {
   "cell_type": "code",
   "execution_count": 4,
   "metadata": {},
   "outputs": [
    {
     "name": "stdout",
     "output_type": "stream",
     "text": [
      "All entries were valid.\n",
      "Converted prices successfully written to converted_prices.csv\n"
     ]
    }
   ],
   "source": [
    "import csv\n",
    "\n",
    "def convert_to_digits(price):\n",
    "    \"\"\"\n",
    "    Converts price strings like '86 Lac', '1.45 Cr' into numerical digits.\n",
    "    \"\"\"\n",
    "    price = price.strip().lower()  # Normalize the input\n",
    "    if 'lac' in price:\n",
    "        return float(price.replace('lac', '').strip()) * 1_00_000\n",
    "    elif 'cr' in price:\n",
    "        return float(price.replace('cr', '').strip()) * 1_00_00_000\n",
    "    else:\n",
    "        raise ValueError(f\"Unknown price format: {price}\")\n",
    "\n",
    "# File paths\n",
    "input_file = \"prices.txt\"  # Replace with your input file path\n",
    "output_file = \"converted_prices.csv\"  # Output CSV file path\n",
    "\n",
    "# Read prices from the input text file\n",
    "with open(input_file, mode='r', encoding='utf-8') as file:\n",
    "    prices = [line.strip() for line in file if line.strip()]  # Remove blank lines\n",
    "\n",
    "# Convert prices and track invalid entries\n",
    "converted_prices = []\n",
    "invalid_entries = []\n",
    "\n",
    "for price in prices:\n",
    "    try:\n",
    "        converted_price = convert_to_digits(price)\n",
    "        converted_prices.append([price, int(converted_price)])  # Store original and converted\n",
    "    except ValueError as e:\n",
    "        invalid_entries.append(price)  # Track invalid entry\n",
    "\n",
    "# Write the valid results to a CSV file\n",
    "with open(output_file, mode='w', newline='', encoding='utf-8') as file:\n",
    "    writer = csv.writer(file)\n",
    "    writer.writerow([\"Original Price\", \"Converted Price (in Digits)\"])  # CSV header\n",
    "    writer.writerows(converted_prices)\n",
    "\n",
    "# Print invalid entries\n",
    "if invalid_entries:\n",
    "    print(\"The following entries were invalid and could not be processed:\")\n",
    "    for entry in invalid_entries:\n",
    "        print(f\"- {entry}\")\n",
    "else:\n",
    "    print(\"All entries were valid.\")\n",
    "\n",
    "print(f\"Converted prices successfully written to {output_file}\")\n"
   ]
  }
 ],
 "metadata": {
  "kernelspec": {
   "display_name": ".venv",
   "language": "python",
   "name": "python3"
  },
  "language_info": {
   "codemirror_mode": {
    "name": "ipython",
    "version": 3
   },
   "file_extension": ".py",
   "mimetype": "text/x-python",
   "name": "python",
   "nbconvert_exporter": "python",
   "pygments_lexer": "ipython3",
   "version": "3.12.6"
  }
 },
 "nbformat": 4,
 "nbformat_minor": 2
}
